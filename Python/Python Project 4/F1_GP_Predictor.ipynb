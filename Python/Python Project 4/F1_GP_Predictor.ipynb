{
 "cells": [
  {
   "cell_type": "markdown",
   "id": "297ac100-28ed-4b23-b86e-475f1e0df100",
   "metadata": {
    "tags": []
   },
   "source": [
    "### F1 Emilia Romagna GP Prediction "
   ]
  },
  {
   "cell_type": "markdown",
   "id": "e28e4840-6b2e-4833-b207-6b3b16f57960",
   "metadata": {},
   "source": [
    "2024 Emilia Romagna GP prediction model was constructed based on 20 mini models: each projecting finishing place for each driver based on linear regression algorithm. All 20 results were then gathered and sorted from lowest to highest.\n",
    "\n",
    "Following variables were used in the model:\n",
    "\n",
    "Explained variables (Y):\n",
    "-End of race position (pozycja)\n",
    "\n",
    "Explanatory variables (X):\n",
    "-Starting grid positionn (s)\n",
    "-Qualifying result (q)\n",
    "-Final Practice result (f)\n",
    "-Did Not Finish Indicator (dnf)\n",
    "-Team Constructor standing (c)\n",
    "-Last Race at the circuit position (l)\n",
    "-Did Not Finish the last race at the circuit indicator (ld)\n",
    "\n",
    "Note 1: As Emilia Romagna 2023 GP was cancelled, the race results used for the l variable were the 2023 Spanish GP, which was the 8th GP of the last season (Imola 2024 GP is the 7th of the season, however the 7th GP of the 2023 season was the Monaco GP, which is a very specific street circuit, therefore the change to the Spanish GP. \n",
    "Similar situation with the 2024 Chinese GP which was cancelled, so the results from 2023 Azerbeijan GP were used (both races were the 4th GP of the respective seasons).\n",
    "\n",
    "Note 2: As not every driver was in F1 at the beginning of the 2023 season. Therefore, results of drivers who were in the same car were used (e.g. Nick De Vries started in 2023, however he was replaced by Daniel Ricciardo).\n",
    "\n",
    "Note 3: In every race there is a possibility of car problems happening for each driver, sometimes resulting in a DNF. Therefore the propability of such an event were randomised for each driver. As on average 2 to 3 drivers have car problems each race the propability was set at 12.5%. "
   ]
  },
  {
   "cell_type": "markdown",
   "id": "3c74d691-4291-4db1-baef-feef65aa76f8",
   "metadata": {},
   "source": [
    "### Car problems randomise"
   ]
  },
  {
   "cell_type": "code",
   "execution_count": 269,
   "id": "2da46ce7-0c92-4340-8a13-28da6e125a1b",
   "metadata": {
    "tags": []
   },
   "outputs": [
    {
     "name": "stdout",
     "output_type": "stream",
     "text": [
      "       Driver  DNF\n",
      "0    Driver 1    0\n",
      "1    Driver 2    1\n",
      "2    Driver 3    0\n",
      "3    Driver 4    0\n",
      "4    Driver 5    0\n",
      "5    Driver 6    0\n",
      "6    Driver 7    0\n",
      "7    Driver 8    0\n",
      "8    Driver 9    0\n",
      "9   Driver 10    1\n",
      "10  Driver 11    0\n",
      "11  Driver 12    0\n",
      "12  Driver 13    1\n",
      "13  Driver 14    0\n",
      "14  Driver 15    0\n",
      "15  Driver 16    0\n",
      "16  Driver 17    0\n",
      "17  Driver 18    0\n",
      "18  Driver 19    0\n",
      "19  Driver 20    0\n"
     ]
    }
   ],
   "source": [
    "num_drivers = 20\n",
    "\n",
    "np.random.seed(10)\n",
    "\n",
    "#Generating values between 0 (no car problem) and 1 (car problem)\n",
    "random_values = np.random.rand(num_drivers)\n",
    "\n",
    "car_problem = (random_values < 0.125).astype(int)\n",
    "\n",
    "drivers = [f'Driver {i+1}' for i in range(num_drivers)]\n",
    "cp = pd.DataFrame({'Driver': drivers, 'DNF': car_problem})\n",
    "\n",
    "print(cp)"
   ]
  },
  {
   "cell_type": "markdown",
   "id": "b8e06939-abce-4196-944a-d47adddd4fe0",
   "metadata": {},
   "source": [
    "### Importing libraries and data"
   ]
  },
  {
   "cell_type": "code",
   "execution_count": 247,
   "id": "c99435a1-67aa-46b9-b1a5-d905158f82a9",
   "metadata": {
    "tags": []
   },
   "outputs": [],
   "source": [
    "import pandas as pd\n",
    "import numpy as np\n",
    "import os\n",
    "from sklearn.model_selection import train_test_split\n",
    "from sklearn.linear_model import LinearRegression\n",
    "\n",
    "os.chdir(\"/Users/sbbogdyn/Downloads\")\n",
    "\n",
    "df = pd.read_excel('Zeszyt1.xlsx')\n",
    "\n",
    "#Removing the last row of df which is the Imola GP\n",
    "df_pre = df[:-1]"
   ]
  },
  {
   "cell_type": "markdown",
   "id": "e48103a5-1f2d-4f7f-bfb8-2215b78783b7",
   "metadata": {},
   "source": [
    "### Performing forecasts for each driver. Methodology will be showcased on the Max Verstappen example."
   ]
  },
  {
   "cell_type": "markdown",
   "id": "3231441b-978e-4624-a552-400eab084089",
   "metadata": {},
   "source": [
    "### Y1 - Max Verstappen"
   ]
  },
  {
   "cell_type": "code",
   "execution_count": 273,
   "id": "0788aa7a-ad83-4bb6-9bb4-206752be1a8d",
   "metadata": {
    "tags": []
   },
   "outputs": [
    {
     "name": "stdout",
     "output_type": "stream",
     "text": [
      "[0.5]\n"
     ]
    }
   ],
   "source": [
    "#Selecting Max Verstappen variables from the dataframe\n",
    "\n",
    "y1_pre = df_pre['MV pozycja']\n",
    "columns_to_select = ['smv', 'qmv', 'fmv', 'dnfmv', 'cmv', 'lmv', 'ldmv']\n",
    "\n",
    "x1_pre = df_pre[columns_to_select]\n",
    "\n",
    "# Splitting the data into training and test sets\n",
    "x1_pre_train, x1_pre_test, y1_pre_train, y1_pre_test = train_test_split(x1_pre, y1_pre, test_size=0.16, random_state=1)\n",
    "\n",
    "# Performing linear regression\n",
    "model = LinearRegression()\n",
    "model.fit(x1_pre_train, y1_pre_train)\n",
    "y1_pred = model.predict(x1_pre_test)\n",
    "\n",
    "#Subtracting the Emila Romagna GP data to perform the forecast \n",
    "df_prognose = df.iloc[[-1]]\n",
    "\n",
    "y1_pro = df_prognose['MV pozycja']\n",
    "columns_to_select = ['smv', 'qmv', 'fmv', 'dnfmv', 'cmv', 'lmv', 'ldmv']\n",
    "\n",
    "x1_pro = df_prognose[columns_to_select]\n",
    "\n",
    "#Forecasting driver final position\n",
    "y1_act_pred = model.predict(x1_pro)\n",
    "\n",
    "print(y1_act_pred)"
   ]
  },
  {
   "cell_type": "markdown",
   "id": "9e5feb12-29e7-48b1-b6d9-234a3c85e093",
   "metadata": {},
   "source": [
    "### Y2 - Sergio Perez"
   ]
  },
  {
   "cell_type": "code",
   "execution_count": 274,
   "id": "de63e548-5d51-45d0-abeb-63e89729d58a",
   "metadata": {
    "tags": []
   },
   "outputs": [
    {
     "name": "stdout",
     "output_type": "stream",
     "text": [
      "[8.4]\n"
     ]
    }
   ],
   "source": [
    "y2_pre = df_pre['SP pozycja']\n",
    "columns_to_select = ['ssp', 'qsp', 'fsp','dnfsp', 'csp', 'lsp', 'ldsp']\n",
    "\n",
    "x2_pre = df_pre[columns_to_select]\n",
    "\n",
    "\n",
    "x2_pre_train, x2_pre_test, y2_pre_train, y2_pre_test = train_test_split(x2_pre, y2_pre, test_size=0.16, random_state=1)\n",
    "\n",
    "\n",
    "model = LinearRegression()\n",
    "model.fit(x2_pre_train, y2_pre_train)\n",
    "y2_pred = model.predict(x2_pre_test)\n",
    "\n",
    "df_prognose = df.iloc[[-1]]\n",
    "\n",
    "y2_pro = df_prognose['SP pozycja']\n",
    "columns_to_select = ['ssp', 'qsp', 'fsp', 'dnfsp', 'csp', 'lsp', 'ldsp']\n",
    "\n",
    "x2_pro = df_prognose[columns_to_select]\n",
    "\n",
    "y2_act_pred = model.predict(x2_pro)\n",
    "\n",
    "print(y2_act_pred)"
   ]
  },
  {
   "cell_type": "markdown",
   "id": "9189be50-530c-4e8f-8269-1daadb314c3f",
   "metadata": {},
   "source": [
    "### Y3 - Lewis Hamilton"
   ]
  },
  {
   "cell_type": "code",
   "execution_count": 275,
   "id": "e2d2db6d-6feb-4c5d-b054-05916cb449ef",
   "metadata": {
    "tags": []
   },
   "outputs": [
    {
     "name": "stdout",
     "output_type": "stream",
     "text": [
      "[15.59558824]\n"
     ]
    }
   ],
   "source": [
    "y3_pre = df_pre['LH pozycja']\n",
    "columns_to_select = ['slh', 'qlh', 'flh','dnflh', 'clh', 'llh', 'ldlh']\n",
    "\n",
    "x3_pre = df_pre[columns_to_select]\n",
    "\n",
    "\n",
    "x3_pre_train, x3_pre_test, y3_pre_train, y3_pre_test = train_test_split(x3_pre, y3_pre, test_size=0.16, random_state=1)\n",
    "\n",
    "\n",
    "model = LinearRegression()\n",
    "model.fit(x3_pre_train, y3_pre_train)\n",
    "y3_pred = model.predict(x3_pre_test)\n",
    "\n",
    "df_prognose = df.iloc[[-1]]\n",
    "\n",
    "y3_pro = df_prognose['LH pozycja']\n",
    "columns_to_select = ['slh', 'qlh', 'flh', 'dnflh', 'clh', 'llh', 'ldlh']\n",
    "\n",
    "x3_pro = df_prognose[columns_to_select]\n",
    "\n",
    "y3_act_pred = model.predict(x3_pro)\n",
    "\n",
    "print(y3_act_pred)"
   ]
  },
  {
   "cell_type": "markdown",
   "id": "d4a438b4-715a-43ad-86c6-2aac8c3fdd9e",
   "metadata": {},
   "source": [
    "### Y4 - George Russell"
   ]
  },
  {
   "cell_type": "code",
   "execution_count": 276,
   "id": "0a36cb3a-38fc-4631-9cec-fbacafbb55b2",
   "metadata": {
    "tags": []
   },
   "outputs": [
    {
     "name": "stdout",
     "output_type": "stream",
     "text": [
      "[8.4]\n"
     ]
    }
   ],
   "source": [
    "y4_pre = df_pre['GR pozycja']\n",
    "columns_to_select = ['sgr', 'qgr', 'fgr','dnfgr', 'cgr', 'lgr', 'ldgr']\n",
    "\n",
    "x4_pre = df_pre[columns_to_select]\n",
    "\n",
    "\n",
    "x4_pre_train, x4_pre_test, y4_pre_train, y4_pre_test = train_test_split(x4_pre, y4_pre, test_size=0.16, random_state=1)\n",
    "\n",
    "\n",
    "model = LinearRegression()\n",
    "model.fit(x4_pre_train, y4_pre_train)\n",
    "y4_pred = model.predict(x4_pre_test)\n",
    "\n",
    "df_prognose = df.iloc[[-1]]\n",
    "\n",
    "y4_pro = df_prognose['GR pozycja']\n",
    "columns_to_select = ['sgr', 'qgr', 'fgr', 'dnfgr', 'cgr', 'lgr', 'ldgr']\n",
    "\n",
    "x4_pro = df_prognose[columns_to_select]\n",
    "\n",
    "y4_act_pred = model.predict(x4_pro)\n",
    "\n",
    "print(y2_act_pred)"
   ]
  },
  {
   "cell_type": "markdown",
   "id": "affd0807-c2f5-4e2f-b7cb-bfb4b8285431",
   "metadata": {},
   "source": [
    "### Y5 - Charles Leclerc"
   ]
  },
  {
   "cell_type": "code",
   "execution_count": 278,
   "id": "1c856ffb-75d8-4aad-ad4b-e2d3ff8fee91",
   "metadata": {
    "tags": []
   },
   "outputs": [
    {
     "name": "stdout",
     "output_type": "stream",
     "text": [
      "[3.38625576]\n"
     ]
    }
   ],
   "source": [
    "y5_pre = df_pre['CL pozycja']\n",
    "columns_to_select = ['scl', 'qcl', 'fcl','dnfcl', 'ccl', 'lcl', 'ldcl']\n",
    "\n",
    "x5_pre = df_pre[columns_to_select]\n",
    "\n",
    "\n",
    "x5_pre_train, x5_pre_test, y5_pre_train, y5_pre_test = train_test_split(x5_pre, y5_pre, test_size=0.16, random_state=1)\n",
    "\n",
    "\n",
    "model = LinearRegression()\n",
    "model.fit(x5_pre_train, y5_pre_train)\n",
    "y5_pred = model.predict(x5_pre_test)\n",
    "\n",
    "df_prognose = df.iloc[[-1]]\n",
    "\n",
    "y5_pro = df_prognose['CL pozycja']\n",
    "columns_to_select = ['scl', 'qcl', 'fcl','dnfcl', 'ccl', 'lcl', 'ldcl']\n",
    "\n",
    "x5_pro = df_prognose[columns_to_select]\n",
    "\n",
    "y5_act_pred = model.predict(x5_pro)\n",
    "\n",
    "print(y5_act_pred)"
   ]
  },
  {
   "cell_type": "markdown",
   "id": "3979806e-8a09-40b8-a5c0-cefea403ad21",
   "metadata": {},
   "source": [
    "### Y6 - Carlos Sainz"
   ]
  },
  {
   "cell_type": "code",
   "execution_count": 279,
   "id": "4be66a42-860c-4c78-801c-ffc148b3a191",
   "metadata": {
    "tags": []
   },
   "outputs": [
    {
     "name": "stdout",
     "output_type": "stream",
     "text": [
      "[9.21052632]\n"
     ]
    }
   ],
   "source": [
    "y6_pre = df_pre['CS pozycja']\n",
    "columns_to_select = ['scs', 'qcs', 'fcs','dnfcs', 'ccs', 'lcs', 'ldcs']\n",
    "\n",
    "x6_pre = df_pre[columns_to_select]\n",
    "\n",
    "\n",
    "x6_pre_train, x6_pre_test, y6_pre_train, y6_pre_test = train_test_split(x6_pre, y6_pre, test_size=0.16, random_state=1)\n",
    "\n",
    "\n",
    "model = LinearRegression()\n",
    "model.fit(x6_pre_train, y6_pre_train)\n",
    "y6_pred = model.predict(x6_pre_test)\n",
    "\n",
    "df_prognose = df.iloc[[-1]]\n",
    "\n",
    "y6_pro = df_prognose['CS pozycja']\n",
    "columns_to_select = ['scs', 'qcs', 'fcs','dnfcs', 'ccs', 'lcs', 'ldcs']\n",
    "\n",
    "x6_pro = df_prognose[columns_to_select]\n",
    "\n",
    "y6_act_pred = model.predict(x6_pro)\n",
    "\n",
    "print(y6_act_pred)"
   ]
  },
  {
   "cell_type": "markdown",
   "id": "1d79a626-6bb4-44e3-b5f2-23baa33cc8bc",
   "metadata": {},
   "source": [
    "### Y7 - Lando Norris"
   ]
  },
  {
   "cell_type": "code",
   "execution_count": 280,
   "id": "89c49996-da99-42d5-81bd-6519ed848e0d",
   "metadata": {
    "tags": []
   },
   "outputs": [
    {
     "name": "stdout",
     "output_type": "stream",
     "text": [
      "[7.46938776]\n"
     ]
    }
   ],
   "source": [
    "y7_pre = df_pre['LN pozycja']\n",
    "columns_to_select = ['sln', 'qln', 'fln','dnfln', 'cln', 'lln', 'ldln']\n",
    "\n",
    "x7_pre = df_pre[columns_to_select]\n",
    "\n",
    "\n",
    "x7_pre_train, x7_pre_test, y7_pre_train, y7_pre_test = train_test_split(x7_pre, y7_pre, test_size=0.16, random_state=1)\n",
    "\n",
    "\n",
    "model = LinearRegression()\n",
    "model.fit(x7_pre_train, y7_pre_train)\n",
    "y7_pred = model.predict(x7_pre_test)\n",
    "\n",
    "df_prognose = df.iloc[[-1]]\n",
    "\n",
    "y7_pro = df_prognose['LN pozycja']\n",
    "columns_to_select = ['sln', 'qln', 'fln','dnfln', 'cln', 'lln', 'ldln']\n",
    "\n",
    "x7_pro = df_prognose[columns_to_select]\n",
    "\n",
    "y7_act_pred = model.predict(x7_pro)\n",
    "\n",
    "print(y7_act_pred)"
   ]
  },
  {
   "cell_type": "markdown",
   "id": "0d86ca1a-f869-4e6e-8b89-6ad0dfb2d1a8",
   "metadata": {},
   "source": [
    "### Y8 - Oscar Piastri"
   ]
  },
  {
   "cell_type": "code",
   "execution_count": 281,
   "id": "5b784dd7-cbe1-430a-8a32-5b1e81b466b9",
   "metadata": {
    "tags": []
   },
   "outputs": [
    {
     "name": "stdout",
     "output_type": "stream",
     "text": [
      "[19.15]\n"
     ]
    }
   ],
   "source": [
    "y8_pre = df_pre['OP pozycja']\n",
    "columns_to_select = ['sop', 'qop', 'fop','dnfop', 'cop', 'lop', 'ldop']\n",
    "\n",
    "x8_pre = df_pre[columns_to_select]\n",
    "\n",
    "\n",
    "x8_pre_train, x8_pre_test, y8_pre_train, y8_pre_test = train_test_split(x8_pre, y8_pre, test_size=0.16, random_state=1)\n",
    "\n",
    "\n",
    "model = LinearRegression()\n",
    "model.fit(x8_pre_train, y8_pre_train)\n",
    "y8_pred = model.predict(x8_pre_test)\n",
    "\n",
    "df_prognose = df.iloc[[-1]]\n",
    "\n",
    "y8_pro = df_prognose['OP pozycja']\n",
    "columns_to_select = ['sop', 'qop', 'fop','dnfop', 'cop', 'lop', 'ldop']\n",
    "\n",
    "x8_pro = df_prognose[columns_to_select]\n",
    "\n",
    "y8_act_pred = model.predict(x8_pro)\n",
    "\n",
    "print(y8_act_pred)"
   ]
  },
  {
   "cell_type": "markdown",
   "id": "6c222f13-d293-4f2a-859b-6f44ebcd83b4",
   "metadata": {},
   "source": [
    "### Y9 - Fernando Alonso"
   ]
  },
  {
   "cell_type": "code",
   "execution_count": 282,
   "id": "3c8f8d52-0fd8-4e35-a8a0-c08daff8df1b",
   "metadata": {
    "tags": []
   },
   "outputs": [
    {
     "name": "stdout",
     "output_type": "stream",
     "text": [
      "[17.32060544]\n"
     ]
    }
   ],
   "source": [
    "y9_pre = df_pre['FA pozycja']\n",
    "columns_to_select = ['sfa', 'qfa', 'ffa','dnffa', 'cfa', 'lfa', 'ldfa']\n",
    "\n",
    "x9_pre = df_pre[columns_to_select]\n",
    "\n",
    "\n",
    "x9_pre_train, x9_pre_test, y9_pre_train, y9_pre_test = train_test_split(x9_pre, y9_pre, test_size=0.16, random_state=1)\n",
    "\n",
    "\n",
    "model = LinearRegression()\n",
    "model.fit(x9_pre_train, y9_pre_train)\n",
    "y9_pred = model.predict(x9_pre_test)\n",
    "\n",
    "df_prognose = df.iloc[[-1]]\n",
    "\n",
    "y9_pro = df_prognose['FA pozycja']\n",
    "columns_to_select = ['sfa', 'qfa', 'ffa', 'dnffa', 'cfa', 'lfa', 'ldfa']\n",
    "\n",
    "x9_pro = df_prognose[columns_to_select]\n",
    "\n",
    "y9_act_pred = model.predict(x9_pro)\n",
    "\n",
    "print(y9_act_pred)"
   ]
  },
  {
   "cell_type": "markdown",
   "id": "7eb9d12a-761d-43d3-b112-e51120515e95",
   "metadata": {},
   "source": [
    "### Y10 - Lance Stroll"
   ]
  },
  {
   "cell_type": "code",
   "execution_count": 283,
   "id": "d0df0839-4e04-4cad-b1df-4f1af9b65254",
   "metadata": {
    "tags": []
   },
   "outputs": [
    {
     "name": "stdout",
     "output_type": "stream",
     "text": [
      "[18.01276742]\n"
     ]
    }
   ],
   "source": [
    "y10_pre = df_pre['LS pozycja']\n",
    "columns_to_select = ['sls', 'qls', 'fls','dnfls', 'cls', 'lls', 'ldls']\n",
    "\n",
    "x10_pre = df_pre[columns_to_select]\n",
    "\n",
    "\n",
    "x10_pre_train, x10_pre_test, y10_pre_train, y10_pre_test = train_test_split(x10_pre, y10_pre, test_size=0.16, random_state=1)\n",
    "\n",
    "\n",
    "model = LinearRegression()\n",
    "model.fit(x10_pre_train, y10_pre_train)\n",
    "y10_pred = model.predict(x10_pre_test)\n",
    "\n",
    "df_prognose = df.iloc[[-1]]\n",
    "\n",
    "y10_pro = df_prognose['LS pozycja']\n",
    "columns_to_select = ['sls', 'qls', 'fls', 'dnfls', 'cls', 'lls', 'ldls']\n",
    "\n",
    "x10_pro = df_prognose[columns_to_select]\n",
    "\n",
    "y10_act_pred = model.predict(x10_pro)\n",
    "\n",
    "print(y10_act_pred)"
   ]
  },
  {
   "cell_type": "markdown",
   "id": "1c43d77d-e4b3-4319-8796-dca18366d39f",
   "metadata": {},
   "source": [
    "### Y11 - Nico Hulkenberg"
   ]
  },
  {
   "cell_type": "code",
   "execution_count": 284,
   "id": "6013f514-e6a4-43c3-a44e-eff7c4dcc4bc",
   "metadata": {
    "tags": []
   },
   "outputs": [
    {
     "name": "stdout",
     "output_type": "stream",
     "text": [
      "[10.74712644]\n"
     ]
    }
   ],
   "source": [
    "y11_pre = df_pre['NH pozycja']\n",
    "columns_to_select = ['snh', 'qnh', 'fnh','dnfnh', 'cnh', 'lnh', 'ldnh']\n",
    "\n",
    "x11_pre = df_pre[columns_to_select]\n",
    "\n",
    "\n",
    "x11_pre_train, x11_pre_test, y11_pre_train, y11_pre_test = train_test_split(x11_pre, y11_pre, test_size=0.16, random_state=1)\n",
    "\n",
    "\n",
    "model = LinearRegression()\n",
    "model.fit(x11_pre_train, y11_pre_train)\n",
    "y11_pred = model.predict(x11_pre_test)\n",
    "\n",
    "df_prognose = df.iloc[[-1]]\n",
    "\n",
    "y11_pro = df_prognose['NH pozycja']\n",
    "columns_to_select = ['snh', 'qnh', 'fnh', 'dnfnh', 'cnh', 'lnh', 'ldnh']\n",
    "\n",
    "x11_pro = df_prognose[columns_to_select]\n",
    "\n",
    "y11_act_pred = model.predict(x11_pro)\n",
    "\n",
    "print(y11_act_pred)"
   ]
  },
  {
   "cell_type": "markdown",
   "id": "8eadcc88-fb8b-43da-b1d6-0d5ec4a9e6a6",
   "metadata": {},
   "source": [
    "### Y12 - Kevin Magnussen"
   ]
  },
  {
   "cell_type": "code",
   "execution_count": 285,
   "id": "cd939758-ef0f-4c1a-a245-b8af558ab96a",
   "metadata": {
    "tags": []
   },
   "outputs": [
    {
     "name": "stdout",
     "output_type": "stream",
     "text": [
      "[9.63679784]\n"
     ]
    }
   ],
   "source": [
    "y12_pre = df_pre['KM pozycja']\n",
    "columns_to_select = ['skm', 'qkm', 'fkm','dnfkm', 'ckm', 'lkm', 'ldkm']\n",
    "\n",
    "x12_pre = df_pre[columns_to_select]\n",
    "\n",
    "\n",
    "x12_pre_train, x12_pre_test, y12_pre_train, y12_pre_test = train_test_split(x12_pre, y12_pre, test_size=0.16, random_state=1)\n",
    "\n",
    "\n",
    "model = LinearRegression()\n",
    "model.fit(x12_pre_train, y12_pre_train)\n",
    "y12_pred = model.predict(x12_pre_test)\n",
    "\n",
    "df_prognose = df.iloc[[-1]]\n",
    "\n",
    "y12_pro = df_prognose['KM pozycja']\n",
    "columns_to_select = ['skm', 'qkm', 'fkm', 'dnfkm', 'ckm', 'lkm', 'ldkm']\n",
    "\n",
    "x12_pro = df_prognose[columns_to_select]\n",
    "\n",
    "y12_act_pred = model.predict(x12_pro)\n",
    "\n",
    "print(y12_act_pred)"
   ]
  },
  {
   "cell_type": "markdown",
   "id": "915218e3-8a3b-4d24-aa47-080112d1cf16",
   "metadata": {},
   "source": [
    "### Y13 - Yuki Tsunoda"
   ]
  },
  {
   "cell_type": "code",
   "execution_count": 286,
   "id": "144e08ce-ac16-44af-963f-42985e5416e9",
   "metadata": {
    "tags": []
   },
   "outputs": [
    {
     "name": "stdout",
     "output_type": "stream",
     "text": [
      "[18.68487395]\n"
     ]
    }
   ],
   "source": [
    "y13_pre = df_pre['YT pozycja']\n",
    "columns_to_select = ['syt', 'qyt', 'fyt','dnfyt', 'cyt', 'lyt', 'ldyt']\n",
    "\n",
    "x13_pre = df_pre[columns_to_select]\n",
    "\n",
    "\n",
    "x13_pre_train, x13_pre_test, y13_pre_train, y13_pre_test = train_test_split(x13_pre, y13_pre, test_size=0.16, random_state=1)\n",
    "\n",
    "\n",
    "model = LinearRegression()\n",
    "model.fit(x13_pre_train, y13_pre_train)\n",
    "y13_pred = model.predict(x13_pre_test)\n",
    "\n",
    "df_prognose = df.iloc[[-1]]\n",
    "\n",
    "y13_pro = df_prognose['YT pozycja']\n",
    "columns_to_select = ['syt', 'qyt', 'fyt', 'dnfyt', 'cyt', 'lyt', 'ldyt']\n",
    "\n",
    "x13_pro = df_prognose[columns_to_select]\n",
    "\n",
    "y13_act_pred = model.predict(x13_pro)\n",
    "\n",
    "print(y13_act_pred)"
   ]
  },
  {
   "cell_type": "markdown",
   "id": "5345a488-cc3d-410f-9889-0cdd11a12231",
   "metadata": {},
   "source": [
    "### Y14 - Daniel Ricciardo"
   ]
  },
  {
   "cell_type": "code",
   "execution_count": 287,
   "id": "08241819-d6d2-479c-9c72-275f20ec0de0",
   "metadata": {
    "tags": []
   },
   "outputs": [
    {
     "name": "stdout",
     "output_type": "stream",
     "text": [
      "[16.59345458]\n"
     ]
    }
   ],
   "source": [
    "y14_pre = df_pre['DR pozycja']\n",
    "columns_to_select = ['sdr', 'qdr', 'fdr','dnfdr', 'cdr', 'ldr', 'lddr']\n",
    "\n",
    "x14_pre = df_pre[columns_to_select]\n",
    "\n",
    "\n",
    "x14_pre_train, x14_pre_test, y14_pre_train, y14_pre_test = train_test_split(x14_pre, y14_pre, test_size=0.16, random_state=1)\n",
    "\n",
    "\n",
    "model = LinearRegression()\n",
    "model.fit(x14_pre_train, y14_pre_train)\n",
    "y14_pred = model.predict(x14_pre_test)\n",
    "\n",
    "df_prognose = df.iloc[[-1]]\n",
    "\n",
    "y14_pro = df_prognose['DR pozycja']\n",
    "columns_to_select = ['sdr', 'qdr', 'fdr', 'dnfdr', 'cdr', 'ldr', 'lddr']\n",
    "\n",
    "x14_pro = df_prognose[columns_to_select]\n",
    "\n",
    "y14_act_pred = model.predict(x14_pro)\n",
    "\n",
    "print(y14_act_pred)"
   ]
  },
  {
   "cell_type": "markdown",
   "id": "2fe3e8c5-e956-447d-af09-5e9b6164c45d",
   "metadata": {},
   "source": [
    "### Y15 - Alexander Albon"
   ]
  },
  {
   "cell_type": "code",
   "execution_count": 288,
   "id": "4eaaefe3-fe16-459c-bbbe-4f07e322eec7",
   "metadata": {
    "tags": []
   },
   "outputs": [
    {
     "name": "stdout",
     "output_type": "stream",
     "text": [
      "[26.05084746]\n"
     ]
    }
   ],
   "source": [
    "y15_pre = df_pre['AA pozycja']\n",
    "columns_to_select = ['saa', 'qaa', 'faa','dnfaa', 'caa', 'laa', 'ldaa']\n",
    "\n",
    "x15_pre = df_pre[columns_to_select]\n",
    "\n",
    "\n",
    "x15_pre_train, x15_pre_test, y15_pre_train, y15_pre_test = train_test_split(x15_pre, y15_pre, test_size=0.16, random_state=1)\n",
    "\n",
    "\n",
    "model = LinearRegression()\n",
    "model.fit(x15_pre_train, y15_pre_train)\n",
    "y15_pred = model.predict(x15_pre_test)\n",
    "\n",
    "df_prognose = df.iloc[[-1]]\n",
    "\n",
    "y15_pro = df_prognose['AA pozycja']\n",
    "columns_to_select = ['saa', 'qaa', 'faa', 'dnfaa', 'caa', 'laa', 'ldaa']\n",
    "\n",
    "x15_pro = df_prognose[columns_to_select]\n",
    "\n",
    "y15_act_pred = model.predict(x15_pro)\n",
    "\n",
    "print(y15_act_pred)"
   ]
  },
  {
   "cell_type": "markdown",
   "id": "ecb2f341-702b-48f2-949f-1d384c7ceefd",
   "metadata": {},
   "source": [
    "### Y16 - Logan Sargeant"
   ]
  },
  {
   "cell_type": "code",
   "execution_count": 289,
   "id": "72044f70-7b5d-48a0-9084-eedc6c141ef3",
   "metadata": {
    "tags": []
   },
   "outputs": [
    {
     "name": "stdout",
     "output_type": "stream",
     "text": [
      "[16.60911592]\n"
     ]
    }
   ],
   "source": [
    "y16_pre = df_pre['LSR pozycja']\n",
    "columns_to_select = ['slsr', 'qlsr', 'flsr','dnflsr', 'clsr', 'llsr', 'ldlsr']\n",
    "\n",
    "x16_pre = df_pre[columns_to_select]\n",
    "\n",
    "\n",
    "x16_pre_train, x16_pre_test, y16_pre_train, y16_pre_test = train_test_split(x16_pre, y16_pre, test_size=0.16, random_state=1)\n",
    "\n",
    "\n",
    "model = LinearRegression()\n",
    "model.fit(x16_pre_train, y16_pre_train)\n",
    "y16_pred = model.predict(x16_pre_test)\n",
    "\n",
    "df_prognose = df.iloc[[-1]]\n",
    "\n",
    "y16_pro = df_prognose['LSR pozycja']\n",
    "columns_to_select = ['slsr', 'qlsr', 'flsr', 'dnflsr', 'clsr', 'llsr', 'ldlsr']\n",
    "\n",
    "x16_pro = df_prognose[columns_to_select]\n",
    "\n",
    "y16_act_pred = model.predict(x16_pro)\n",
    "\n",
    "print(y16_act_pred)"
   ]
  },
  {
   "cell_type": "markdown",
   "id": "dc7f9770-ad0f-4398-b06a-d8b2abda9a6f",
   "metadata": {},
   "source": [
    "### Y17 - Valtteri Bottas"
   ]
  },
  {
   "cell_type": "code",
   "execution_count": 290,
   "id": "4eefabb9-62f3-40a8-9da0-68db6ea8f5e2",
   "metadata": {
    "tags": []
   },
   "outputs": [
    {
     "name": "stdout",
     "output_type": "stream",
     "text": [
      "[15.13505747]\n"
     ]
    }
   ],
   "source": [
    "y17_pre = df_pre['VB pozycja']\n",
    "columns_to_select = ['svb', 'qvb', 'fvb','dnfvb', 'cvb', 'lvb', 'ldvb']\n",
    "\n",
    "x17_pre = df_pre[columns_to_select]\n",
    "\n",
    "\n",
    "x17_pre_train, x17_pre_test, y17_pre_train, y17_pre_test = train_test_split(x17_pre, y17_pre, test_size=0.16, random_state=1)\n",
    "\n",
    "\n",
    "model = LinearRegression()\n",
    "model.fit(x17_pre_train, y17_pre_train)\n",
    "y17_pred = model.predict(x17_pre_test)\n",
    "\n",
    "df_prognose = df.iloc[[-1]]\n",
    "\n",
    "y17_pro = df_prognose['VB pozycja']\n",
    "columns_to_select = ['svb', 'qvb', 'fvb', 'dnfvb', 'cvb', 'lvb', 'ldvb']\n",
    "\n",
    "x17_pro = df_prognose[columns_to_select]\n",
    "\n",
    "y17_act_pred = model.predict(x17_pro)\n",
    "\n",
    "print(y17_act_pred)"
   ]
  },
  {
   "cell_type": "markdown",
   "id": "abcd5060-7577-494e-931c-bd4cf44bb68a",
   "metadata": {},
   "source": [
    "### Y18 - Zhou Guanyu "
   ]
  },
  {
   "cell_type": "code",
   "execution_count": 291,
   "id": "4ad2648e-064a-4b39-8259-891c1e4acb1b",
   "metadata": {
    "tags": []
   },
   "outputs": [
    {
     "name": "stdout",
     "output_type": "stream",
     "text": [
      "[10.83100734]\n"
     ]
    }
   ],
   "source": [
    "y18_pre = df_pre['GZ pozycja']\n",
    "columns_to_select = ['sgz', 'qgz', 'fgz','dnfgz', 'cgz', 'lgz', 'ldgz']\n",
    "\n",
    "x18_pre = df_pre[columns_to_select]\n",
    "\n",
    "\n",
    "x18_pre_train, x18_pre_test, y18_pre_train, y18_pre_test = train_test_split(x18_pre, y18_pre, test_size=0.16, random_state=1)\n",
    "\n",
    "\n",
    "model = LinearRegression()\n",
    "model.fit(x18_pre_train, y18_pre_train)\n",
    "y18_pred = model.predict(x18_pre_test)\n",
    "\n",
    "df_prognose = df.iloc[[-1]]\n",
    "\n",
    "y18_pro = df_prognose['GZ pozycja']\n",
    "columns_to_select = ['sgz', 'qgz', 'fgz', 'dnfgz', 'cgz', 'lgz', 'ldgz']\n",
    "\n",
    "x18_pro = df_prognose[columns_to_select]\n",
    "\n",
    "y18_act_pred = model.predict(x18_pro)\n",
    "\n",
    "print(y18_act_pred)"
   ]
  },
  {
   "cell_type": "markdown",
   "id": "85416315-f7a7-4879-a0c6-44aca717536f",
   "metadata": {},
   "source": [
    "### Y19 - Esteban Ocon"
   ]
  },
  {
   "cell_type": "code",
   "execution_count": 292,
   "id": "deced407-9274-4e2b-8a6f-513b70122ce7",
   "metadata": {
    "tags": []
   },
   "outputs": [
    {
     "name": "stdout",
     "output_type": "stream",
     "text": [
      "[18.66044776]\n"
     ]
    }
   ],
   "source": [
    "y19_pre = df_pre['EO pozycja']\n",
    "columns_to_select = ['seo', 'qeo', 'feo','dnfeo', 'ceo', 'leo', 'ldeo']\n",
    "\n",
    "x19_pre = df_pre[columns_to_select]\n",
    "\n",
    "\n",
    "x19_pre_train, x19_pre_test, y19_pre_train, y19_pre_test = train_test_split(x19_pre, y19_pre, test_size=0.16, random_state=1)\n",
    "\n",
    "\n",
    "model = LinearRegression()\n",
    "model.fit(x19_pre_train, y19_pre_train)\n",
    "y19_pred = model.predict(x19_pre_test)\n",
    "\n",
    "df_prognose = df.iloc[[-1]]\n",
    "\n",
    "y19_pro = df_prognose['EO pozycja']\n",
    "columns_to_select = ['seo', 'qeo', 'feo', 'dnfeo', 'ceo', 'leo', 'ldeo']\n",
    "\n",
    "x19_pro = df_prognose[columns_to_select]\n",
    "\n",
    "y19_act_pred = model.predict(x19_pro)\n",
    "\n",
    "print(y19_act_pred)"
   ]
  },
  {
   "cell_type": "markdown",
   "id": "290905f5-7873-46bf-91b9-e9d4a58784ea",
   "metadata": {},
   "source": [
    "### Y20 - Pierre Gasly"
   ]
  },
  {
   "cell_type": "code",
   "execution_count": 293,
   "id": "88ea04a2-fcca-4bdc-9b65-7d383693af9b",
   "metadata": {
    "tags": []
   },
   "outputs": [
    {
     "name": "stdout",
     "output_type": "stream",
     "text": [
      "[10.46599787]\n"
     ]
    }
   ],
   "source": [
    "y20_pre = df_pre['PG pozycja']\n",
    "columns_to_select = ['spg', 'qpg', 'fpg','dnfpg', 'cpg', 'lpg', 'ldpg']\n",
    "\n",
    "x20_pre = df_pre[columns_to_select]\n",
    "\n",
    "\n",
    "x20_pre_train, x20_pre_test, y20_pre_train, y20_pre_test = train_test_split(x20_pre, y20_pre, test_size=0.16, random_state=1)\n",
    "\n",
    "\n",
    "model = LinearRegression()\n",
    "model.fit(x20_pre_train, y20_pre_train)\n",
    "y20_pred = model.predict(x20_pre_test)\n",
    "\n",
    "df_prognose = df.iloc[[-1]]\n",
    "\n",
    "y20_pro = df_prognose['PG pozycja']\n",
    "columns_to_select = ['spg', 'qpg', 'fpg', 'dnfpg', 'cpg', 'lpg', 'ldpg']\n",
    "\n",
    "x20_pro = df_prognose[columns_to_select]\n",
    "\n",
    "y20_act_pred = model.predict(x20_pro)\n",
    "\n",
    "print(y20_act_pred)"
   ]
  },
  {
   "cell_type": "markdown",
   "id": "646c7296-ab2b-4750-bc6c-8f61ac0ee417",
   "metadata": {},
   "source": [
    "### Final Results"
   ]
  },
  {
   "cell_type": "code",
   "execution_count": 294,
   "id": "c9e4f274-3f8c-4334-bca9-eeb82effb220",
   "metadata": {
    "tags": []
   },
   "outputs": [
    {
     "name": "stdout",
     "output_type": "stream",
     "text": [
      "              Driver          Power Ranking\n",
      "0     Max Verstappen  [0.49999999999999933]\n",
      "1    Charles Leclerc    [3.386255761161175]\n",
      "2       Lando Norris    [7.469387755101922]\n",
      "3       Sergio Perez    [8.399999999999967]\n",
      "4       Carlos Sainz     [9.21052631578948]\n",
      "5    Kevin Magnussen    [9.636797840307343]\n",
      "6       Pierre Gasly   [10.465997866758913]\n",
      "7    Nico Hulkenberg   [10.747126436781615]\n",
      "8        Zhou Guanyu   [10.831007335447602]\n",
      "9     George Russell   [14.428571428571427]\n",
      "10   Valtteri Bottas   [15.135057471264407]\n",
      "11    Lewis Hamilton   [15.595588235294109]\n",
      "12  Daniel Ricciardo   [16.593454575930274]\n",
      "13    Logan Sargeant    [16.60911592230045]\n",
      "14   Fernando Alonso   [17.320605438795045]\n",
      "15      Lance Stroll     [18.0127674157703]\n",
      "16      Esteban Ocon   [18.660447761194035]\n",
      "17      Yuki Tsunoda    [18.68487394957984]\n",
      "18     Oscar Piastri   [19.149999999999988]\n",
      "19   Alexander Albon   [26.050847457627118]\n"
     ]
    }
   ],
   "source": [
    "data = [\n",
    "    ('Max Verstappen', y1_act_pred),\n",
    "    ('Sergio Perez', y2_act_pred),\n",
    "    ('Lewis Hamilton', y3_act_pred),\n",
    "    ('George Russell', y4_act_pred),\n",
    "    ('Charles Leclerc', y5_act_pred),\n",
    "    ('Carlos Sainz', y6_act_pred),\n",
    "    ('Lando Norris', y7_act_pred),\n",
    "    ('Oscar Piastri', y8_act_pred),\n",
    "    ('Fernando Alonso', y9_act_pred),\n",
    "    ('Lance Stroll', y10_act_pred),\n",
    "    ('Nico Hulkenberg', y11_act_pred),\n",
    "    ('Kevin Magnussen', y12_act_pred),\n",
    "    ('Yuki Tsunoda', y13_act_pred),\n",
    "    ('Daniel Ricciardo', y14_act_pred),\n",
    "    ('Alexander Albon', y15_act_pred),\n",
    "    ('Logan Sargeant', y16_act_pred),\n",
    "    ('Valtteri Bottas', y17_act_pred),\n",
    "    ('Zhou Guanyu', y18_act_pred),\n",
    "    ('Esteban Ocon', y19_act_pred),\n",
    "    ('Pierre Gasly', y20_act_pred),\n",
    "]\n",
    "\n",
    "# Sorting the list based on the y_act_pred value\n",
    "sorted_data = sorted(data, key=lambda x: x[1])\n",
    "\n",
    "# Converting the list into a DataFrame\n",
    "results = pd.DataFrame(sorted_data, columns=['Driver', 'Power Ranking'])\n",
    "\n",
    "print(results)"
   ]
  }
 ],
 "metadata": {
  "kernelspec": {
   "display_name": "Python 3 (ipykernel)",
   "language": "python",
   "name": "python3"
  },
  "language_info": {
   "codemirror_mode": {
    "name": "ipython",
    "version": 3
   },
   "file_extension": ".py",
   "mimetype": "text/x-python",
   "name": "python",
   "nbconvert_exporter": "python",
   "pygments_lexer": "ipython3",
   "version": "3.11.5"
  }
 },
 "nbformat": 4,
 "nbformat_minor": 5
}
